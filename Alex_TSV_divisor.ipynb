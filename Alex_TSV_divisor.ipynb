{
 "cells": [
  {
   "cell_type": "code",
   "execution_count": null,
   "metadata": {},
   "outputs": [],
   "source": [
    "# Divisor.ipynb: this program creates and fills 2457 files, 1 file per each TimeSeriesVariable. \n",
    "# The purpose of this action is to simplify work with data set.\n",
    "\n",
    "import xml.etree.ElementTree as ET\n",
    "import numpy\n",
    "import pandas as pd\n",
    "\n",
    "data_set = pd.read_csv('REFIT_TIME_SERIES_VALUES.csv', ',').values\n",
    "print(\"LENGTH: \", len(data_set))\n",
    "\n",
    "# Number of all TSVs is taken from documentation, for avoiding of any random-located entries brute-force will be used\n",
    "constpart = 'TimeSeriesVariable'\n",
    "for count in range(1, 2458):\n",
    "    # get name\n",
    "    tsvname = constpart + str(count)\n",
    "    \n",
    "    # open/create file, write the header of file \n",
    "    filename = tsvname + '.csv'\n",
    "    tsvfile = open(filename, 'w')\n",
    "    tsvfile.write('TimeSeriesVariable/@id dateTime data' + '\\n')   \n",
    "    \n",
    "    # write all necessary entries\n",
    "    for runner in range(len(data_set)):\n",
    "        if data_set[runner][0] == tsvname:\n",
    "            tsvfile.write(str(data_set[runner]).replace('[','').replace(']','').replace(\"'\",'').strip() + '\\n')\n",
    "       \n",
    "    # close the file\n",
    "    tsvfile.close()\n",
    "     \n",
    "# By this simple algorithm initial big data has been divided on 2400+ little files."
   ]
  }
 ],
 "metadata": {
  "kernelspec": {
   "display_name": "Python 3",
   "language": "python",
   "name": "python3"
  },
  "language_info": {
   "codemirror_mode": {
    "name": "ipython",
    "version": 3
   },
   "file_extension": ".py",
   "mimetype": "text/x-python",
   "name": "python",
   "nbconvert_exporter": "python",
   "pygments_lexer": "ipython3",
   "version": "3.6.4"
  }
 },
 "nbformat": 4,
 "nbformat_minor": 2
}
