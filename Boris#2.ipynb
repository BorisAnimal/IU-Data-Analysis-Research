{
 "cells": [
  {
   "cell_type": "markdown",
   "metadata": {},
   "source": [
    "Try to use guide https://www.kaggle.com/amirrezaeian/time-series-data-analysis-using-lstm-tutorial"
   ]
  },
  {
   "cell_type": "code",
   "execution_count": 3,
   "metadata": {},
   "outputs": [],
   "source": [
    "import sys \n",
    "import numpy as np # linear algebra\n",
    "from scipy.stats import randint\n",
    "import pandas as pd # data processing, CSV file I/O (e.g. pd.read_csv), data manipulation as in SQL\n",
    "import matplotlib.pyplot as plt # this is used for the plot the graph \n",
    "import seaborn as sns # used for plot interactive graph. \n",
    "from sklearn.model_selection import train_test_split # to split the data into two parts\n",
    "from sklearn.cross_validation import KFold # use for cross validation\n",
    "from sklearn.preprocessing import StandardScaler # for normalization\n",
    "from sklearn.preprocessing import MinMaxScaler\n",
    "from sklearn.pipeline import Pipeline # pipeline making\n",
    "from sklearn.model_selection import cross_val_score\n",
    "from sklearn.feature_selection import SelectFromModel\n",
    "from sklearn import metrics # for the check the error and accuracy of the model\n",
    "from sklearn.metrics import mean_squared_error,r2_score\n",
    "\n",
    "## for Deep-learing:\n",
    "import keras\n",
    "from keras.layers import Dense\n",
    "from keras.models import Sequential\n",
    "from keras.utils import to_categorical\n",
    "from keras.optimizers import SGD \n",
    "from keras.callbacks import EarlyStopping\n",
    "from keras.utils import np_utils\n",
    "import itertools\n",
    "from keras.layers import LSTM\n",
    "from keras.layers.convolutional import Conv1D\n",
    "from keras.layers.convolutional import MaxPooling1D\n",
    "from keras.layers import Dropout\n",
    "\n",
    "## from REFIT tutorial\n",
    "from lxml import objectify\n",
    "import pandas as pd\n",
    "import matplotlib.pyplot as plt\n",
    "import itertools\n",
    "%matplotlib inline"
   ]
  },
  {
   "cell_type": "code",
   "execution_count": null,
   "metadata": {},
   "outputs": [],
   "source": [
    "# df = pd.read_csv('../input/household_power_consumption.txt', sep=';', \n",
    "#                  parse_dates={'dt' : ['Date', 'Time']}, infer_datetime_format=True, \n",
    "#                  low_memory=False, na_values=['nan','?'], index_col='dt')"
   ]
  },
  {
   "cell_type": "code",
   "execution_count": 4,
   "metadata": {},
   "outputs": [],
   "source": [
    "path=r'dataset/REFIT_BUILDING_SURVEY.xml'\n",
    "tree = objectify.parse(path)\n",
    "root = tree.getroot()\n",
    "NS={'a':'http://www.refitsmarthomes.org'}\n",
    "\n",
    "path=r'dataset/REFIT_TIME_SERIES_VALUES.csv'\n",
    "\n",
    "try:\n",
    "    csv\n",
    "except:\n",
    "    csv=pd.read_csv(path, index_col=0, parse_dates=[1])"
   ]
  },
  {
   "cell_type": "code",
   "execution_count": 115,
   "metadata": {},
   "outputs": [],
   "source": [
    "## Get climate data\n",
    "elements=root.xpath('./a:Stock/a:Climate/a:Sensor/a:TimeSeriesVariable', namespaces=NS)\n",
    "data_clim = {}\n",
    "time_clim = []\n",
    "for e in elements:\n",
    "    id = e.get('id')\n",
    "    v = csv.loc[id]\n",
    "    sensor_name = e.get('variableType')\n",
    "    if len(time_clim) < 1:\n",
    "        time_clim = v['dateTime'].tolist()\n",
    "    data_clim[sensor_name] = v['data'].tolist()\n",
    "df = pd.DataFrame(data_clim, index=time_clim)\n",
    "##clean df\n",
    "df = df.iloc[1::2] ## Some timeSteps are not in gas_meter indexes (15 mins and 45 mins values, 00 and 30 mins are in)\n",
    "\n",
    "    \n",
    "## Get meter data\n",
    "building_num = 1\n",
    "appliance    = 1 #Number of gas meter\n",
    "tsv = root.xpath('./a:Stock/a:Building[%d]/a:Meter[%d]/a:Sensor/a:TimeSeriesVariable' % (building_num, appliance), namespaces=NS)\n",
    "id = tsv[0].get('id')\n",
    "kek = csv.loc[id]\n",
    "data_gas = {'gas': kek['data'].tolist()}\n",
    "time_gas = kek['dateTime'].tolist()\n",
    "kek = pd.DataFrame(data_gas, index=time_gas)"
   ]
  },
  {
   "cell_type": "code",
   "execution_count": 124,
   "metadata": {},
   "outputs": [
    {
     "data": {
      "text/plain": [
       "Timestamp('2015-05-06 23:30:00')"
      ]
     },
     "execution_count": 124,
     "metadata": {},
     "output_type": "execute_result"
    }
   ],
   "source": [
    "lastind = time_gas[-1]"
   ]
  },
  {
   "cell_type": "code",
   "execution_count": 121,
   "metadata": {},
   "outputs": [],
   "source": [
    "tmp = pd.concat([df, kek], axis=1)\n",
    "## clean merging. We don't need data where no weather forecast\n",
    "tmp = tmp[np.isfinite(tmp['Air temperature'])]"
   ]
  },
  {
   "cell_type": "code",
   "execution_count": 123,
   "metadata": {
    "scrolled": true
   },
   "outputs": [
    {
     "data": {
      "text/plain": [
       "DatetimeIndex(['2013-11-04 09:30:00', '2013-11-04 10:00:00',\n",
       "               '2013-11-04 10:30:00', '2013-11-04 11:00:00',\n",
       "               '2013-11-04 11:30:00', '2013-11-04 12:00:00',\n",
       "               '2013-11-04 12:30:00', '2013-11-04 13:00:00',\n",
       "               '2013-11-04 13:30:00', '2013-11-04 14:00:00',\n",
       "               ...\n",
       "               '2015-06-01 10:00:00', '2015-06-01 10:30:00',\n",
       "               '2015-06-01 11:00:00', '2015-06-01 11:30:00',\n",
       "               '2015-06-01 12:00:00', '2015-06-01 12:30:00',\n",
       "               '2015-06-01 13:00:00', '2015-06-01 13:30:00',\n",
       "               '2015-06-01 14:00:00', '2015-06-01 14:30:00'],\n",
       "              dtype='datetime64[ns]', length=27563, freq='30T')"
      ]
     },
     "execution_count": 123,
     "metadata": {},
     "output_type": "execute_result"
    }
   ],
   "source": [
    "tmp.index\n"
   ]
  }
 ],
 "metadata": {
  "kernelspec": {
   "display_name": "Python 3",
   "language": "python",
   "name": "python3"
  },
  "language_info": {
   "codemirror_mode": {
    "name": "ipython",
    "version": 3
   },
   "file_extension": ".py",
   "mimetype": "text/x-python",
   "name": "python",
   "nbconvert_exporter": "python",
   "pygments_lexer": "ipython3",
   "version": "3.6.4"
  }
 },
 "nbformat": 4,
 "nbformat_minor": 2
}
